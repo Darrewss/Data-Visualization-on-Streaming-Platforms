{
  "nbformat": 4,
  "nbformat_minor": 0,
  "metadata": {
    "colab": {
      "provenance": [],
      "authorship_tag": "ABX9TyOqgNWU11RpLNPkO1PmYaRg"
    },
    "kernelspec": {
      "name": "python3",
      "display_name": "Python 3"
    },
    "language_info": {
      "name": "python"
    }
  },
  "cells": [
    {
      "cell_type": "markdown",
      "source": [
        "**NASKA** (Established Artist) vs **DETTE** (Emerging Artist)\n",
        "\n",
        "Is there a real difference in terms of song features?\n"
      ],
      "metadata": {
        "id": "S8Qoz8mEXlFD"
      }
    },
    {
      "cell_type": "markdown",
      "source": [
        "First of alla extract Data from a Public Pop Punk Spotify Playlist with Spotify API.\n",
        "\n",
        "Playlist Link: (https://open.spotify.com/playlist/5IMFrVKaonvz1AHWOhaX2A?si=d0066c9bce4641df) by **DrewLacroix**"
      ],
      "metadata": {
        "id": "No0R3blAYEtn"
      }
    },
    {
      "cell_type": "code",
      "source": [
        "!pip install spotipy\n",
        "import csv\n",
        "import spotipy\n",
        "from spotipy.oauth2 import SpotifyClientCredentials\n",
        "\n",
        "# Set up Spotify credentials\n",
        "client_id = '88347ddb41d340f19724bb9d371581fe'\n",
        "client_secret = '72dddf2be3324a4c877daa00275dd049'\n",
        "\n",
        "# Initialize Spotipy client\n",
        "client_credentials_manager = SpotifyClientCredentials(client_id=client_id, client_secret=client_secret)\n",
        "spotify = spotipy.Spotify(client_credentials_manager=client_credentials_manager)\n",
        "\n",
        "# Define the playlist ID\n",
        "playlist_id = 'https://open.spotify.com/playlist/5IMFrVKaonvz1AHWOhaX2A?si=5c5f6f7c6dd540a7'\n",
        "\n",
        "# Get playlist details\n",
        "playlist = spotify.playlist(playlist_id)\n",
        "\n",
        "# Extract playlist name\n",
        "playlist_name = playlist['name']\n",
        "\n",
        "# Extract tracks\n",
        "tracks = playlist['tracks']\n",
        "total_tracks = tracks['total']\n",
        "\n",
        "# Create a list to store the extracted data\n",
        "playlist_data = []\n",
        "\n",
        "# Paginate through all tracks\n",
        "while len(playlist_data) < total_tracks:\n",
        "    # Iterate over tracks\n",
        "    for item in tracks['items']:\n",
        "        track = item['track']\n",
        "\n",
        "        # Extract track details\n",
        "        track_name = track['name']\n",
        "        artist_name = track['artists'][0]['name']\n",
        "        album_name = track['album']['name']\n",
        "        track_id = track['id']\n",
        "\n",
        "        # Get audio features of the track\n",
        "        audio_features = spotify.audio_features([track_id])[0]\n",
        "\n",
        "        # Extract desired audio features\n",
        "        danceability = audio_features['danceability']\n",
        "        energy = audio_features['energy']\n",
        "        valence = audio_features['valence']\n",
        "        tempo = audio_features['tempo']\n",
        "        duration_ms = audio_features['duration_ms']\n",
        "\n",
        "        # Create a dictionary with track details and features\n",
        "        track_data = {\n",
        "            'Track': track_name,\n",
        "            'Artist': artist_name,\n",
        "            'Album': album_name,\n",
        "            'Danceability': danceability,\n",
        "            'Energy': energy,\n",
        "            'Valence': valence,\n",
        "            'Tempo': tempo,\n",
        "            'Duration (ms)': duration_ms\n",
        "        }\n",
        "\n",
        "        # Append track data to the playlist_data list\n",
        "        playlist_data.append(track_data)\n",
        "\n",
        "    # Check if there are more tracks to retrieve\n",
        "    if tracks['next']:\n",
        "        tracks = spotify.next(tracks)\n",
        "    else:\n",
        "        break\n",
        "\n",
        "# Print the total number of tracks extracted\n",
        "print(f\"Total Tracks: {len(playlist_data)}\")\n",
        "\n",
        "# Save the playlist data to a CSV file\n",
        "import csv\n",
        "\n",
        "csv_file = 'spotify_playlist_data.csv'\n",
        "\n",
        "with open(csv_file, 'w', newline='', encoding='utf-8') as file:\n",
        "    writer = csv.DictWriter(file, fieldnames=playlist_data[0].keys())\n",
        "    writer.writeheader()\n",
        "    writer.writerows(playlist_data)\n",
        "\n",
        "print(f\"Playlist data has been saved to '{csv_file}'.\")\n"
      ],
      "metadata": {
        "colab": {
          "base_uri": "https://localhost:8080/",
          "height": 0
        },
        "id": "gZaKES3WOQbV",
        "outputId": "c61b556c-d8b7-4efe-cacf-70f822b5e597"
      },
      "execution_count": 10,
      "outputs": [
        {
          "output_type": "stream",
          "name": "stdout",
          "text": [
            "Looking in indexes: https://pypi.org/simple, https://us-python.pkg.dev/colab-wheels/public/simple/\n",
            "Requirement already satisfied: spotipy in /usr/local/lib/python3.10/dist-packages (2.23.0)\n",
            "Requirement already satisfied: redis>=3.5.3 in /usr/local/lib/python3.10/dist-packages (from spotipy) (4.5.5)\n",
            "Requirement already satisfied: requests>=2.25.0 in /usr/local/lib/python3.10/dist-packages (from spotipy) (2.27.1)\n",
            "Requirement already satisfied: six>=1.15.0 in /usr/local/lib/python3.10/dist-packages (from spotipy) (1.16.0)\n",
            "Requirement already satisfied: urllib3>=1.26.0 in /usr/local/lib/python3.10/dist-packages (from spotipy) (1.26.15)\n",
            "Requirement already satisfied: async-timeout>=4.0.2 in /usr/local/lib/python3.10/dist-packages (from redis>=3.5.3->spotipy) (4.0.2)\n",
            "Requirement already satisfied: certifi>=2017.4.17 in /usr/local/lib/python3.10/dist-packages (from requests>=2.25.0->spotipy) (2022.12.7)\n",
            "Requirement already satisfied: charset-normalizer~=2.0.0 in /usr/local/lib/python3.10/dist-packages (from requests>=2.25.0->spotipy) (2.0.12)\n",
            "Requirement already satisfied: idna<4,>=2.5 in /usr/local/lib/python3.10/dist-packages (from requests>=2.25.0->spotipy) (3.4)\n",
            "Total Tracks: 248\n",
            "Playlist data has been saved to 'spotify_playlist_data.csv'.\n"
          ]
        }
      ]
    },
    {
      "cell_type": "markdown",
      "source": [
        "Let's print a small part to inspect if Variables are fine."
      ],
      "metadata": {
        "id": "0GZLCwiIYkvB"
      }
    },
    {
      "cell_type": "code",
      "source": [
        "import pandas as pd\n",
        "\n",
        "# Define the file path\n",
        "csv_file_path = '/content/spotify_playlist_data.csv'\n",
        "\n",
        "# Read the CSV file using pandas\n",
        "df = pd.read_csv(csv_file_path)\n",
        "\n",
        "# Print the DataFrame\n",
        "df.head()\n"
      ],
      "metadata": {
        "colab": {
          "base_uri": "https://localhost:8080/",
          "height": 206
        },
        "id": "jMUb12bkPNzn",
        "outputId": "73cad0d8-f64a-4a41-e2d7-e281a7b7d864"
      },
      "execution_count": 34,
      "outputs": [
        {
          "output_type": "execute_result",
          "data": {
            "text/plain": [
              "                    Track       Artist                   Album  Danceability  \\\n",
              "0                N.D.X.S.    xDiemondx                N.D.X.S.         0.596   \n",
              "1               a Nessuno        NASKA           La mia stanza         0.484   \n",
              "2                Stupendo  Rino Castel                Stupendo         0.647   \n",
              "3                   B!TCH       Frasca                 EMOTIVO         0.733   \n",
              "4  SANGUE! (feat. Decrow)       Frasca  SANGUE! (feat. Decrow)         0.559   \n",
              "\n",
              "   Energy  Valence    Tempo  Duration (ms)  \n",
              "0   0.950    0.369   77.010         163636  \n",
              "1   0.527    0.356  152.758         193306  \n",
              "2   0.893    0.479   89.983         146333  \n",
              "3   0.784    0.579  130.007         188308  \n",
              "4   0.807    0.185   91.419         166154  "
            ],
            "text/html": [
              "\n",
              "  <div id=\"df-8662092b-c779-4765-8425-abc2785548ae\">\n",
              "    <div class=\"colab-df-container\">\n",
              "      <div>\n",
              "<style scoped>\n",
              "    .dataframe tbody tr th:only-of-type {\n",
              "        vertical-align: middle;\n",
              "    }\n",
              "\n",
              "    .dataframe tbody tr th {\n",
              "        vertical-align: top;\n",
              "    }\n",
              "\n",
              "    .dataframe thead th {\n",
              "        text-align: right;\n",
              "    }\n",
              "</style>\n",
              "<table border=\"1\" class=\"dataframe\">\n",
              "  <thead>\n",
              "    <tr style=\"text-align: right;\">\n",
              "      <th></th>\n",
              "      <th>Track</th>\n",
              "      <th>Artist</th>\n",
              "      <th>Album</th>\n",
              "      <th>Danceability</th>\n",
              "      <th>Energy</th>\n",
              "      <th>Valence</th>\n",
              "      <th>Tempo</th>\n",
              "      <th>Duration (ms)</th>\n",
              "    </tr>\n",
              "  </thead>\n",
              "  <tbody>\n",
              "    <tr>\n",
              "      <th>0</th>\n",
              "      <td>N.D.X.S.</td>\n",
              "      <td>xDiemondx</td>\n",
              "      <td>N.D.X.S.</td>\n",
              "      <td>0.596</td>\n",
              "      <td>0.950</td>\n",
              "      <td>0.369</td>\n",
              "      <td>77.010</td>\n",
              "      <td>163636</td>\n",
              "    </tr>\n",
              "    <tr>\n",
              "      <th>1</th>\n",
              "      <td>a Nessuno</td>\n",
              "      <td>NASKA</td>\n",
              "      <td>La mia stanza</td>\n",
              "      <td>0.484</td>\n",
              "      <td>0.527</td>\n",
              "      <td>0.356</td>\n",
              "      <td>152.758</td>\n",
              "      <td>193306</td>\n",
              "    </tr>\n",
              "    <tr>\n",
              "      <th>2</th>\n",
              "      <td>Stupendo</td>\n",
              "      <td>Rino Castel</td>\n",
              "      <td>Stupendo</td>\n",
              "      <td>0.647</td>\n",
              "      <td>0.893</td>\n",
              "      <td>0.479</td>\n",
              "      <td>89.983</td>\n",
              "      <td>146333</td>\n",
              "    </tr>\n",
              "    <tr>\n",
              "      <th>3</th>\n",
              "      <td>B!TCH</td>\n",
              "      <td>Frasca</td>\n",
              "      <td>EMOTIVO</td>\n",
              "      <td>0.733</td>\n",
              "      <td>0.784</td>\n",
              "      <td>0.579</td>\n",
              "      <td>130.007</td>\n",
              "      <td>188308</td>\n",
              "    </tr>\n",
              "    <tr>\n",
              "      <th>4</th>\n",
              "      <td>SANGUE! (feat. Decrow)</td>\n",
              "      <td>Frasca</td>\n",
              "      <td>SANGUE! (feat. Decrow)</td>\n",
              "      <td>0.559</td>\n",
              "      <td>0.807</td>\n",
              "      <td>0.185</td>\n",
              "      <td>91.419</td>\n",
              "      <td>166154</td>\n",
              "    </tr>\n",
              "  </tbody>\n",
              "</table>\n",
              "</div>\n",
              "      <button class=\"colab-df-convert\" onclick=\"convertToInteractive('df-8662092b-c779-4765-8425-abc2785548ae')\"\n",
              "              title=\"Convert this dataframe to an interactive table.\"\n",
              "              style=\"display:none;\">\n",
              "        \n",
              "  <svg xmlns=\"http://www.w3.org/2000/svg\" height=\"24px\"viewBox=\"0 0 24 24\"\n",
              "       width=\"24px\">\n",
              "    <path d=\"M0 0h24v24H0V0z\" fill=\"none\"/>\n",
              "    <path d=\"M18.56 5.44l.94 2.06.94-2.06 2.06-.94-2.06-.94-.94-2.06-.94 2.06-2.06.94zm-11 1L8.5 8.5l.94-2.06 2.06-.94-2.06-.94L8.5 2.5l-.94 2.06-2.06.94zm10 10l.94 2.06.94-2.06 2.06-.94-2.06-.94-.94-2.06-.94 2.06-2.06.94z\"/><path d=\"M17.41 7.96l-1.37-1.37c-.4-.4-.92-.59-1.43-.59-.52 0-1.04.2-1.43.59L10.3 9.45l-7.72 7.72c-.78.78-.78 2.05 0 2.83L4 21.41c.39.39.9.59 1.41.59.51 0 1.02-.2 1.41-.59l7.78-7.78 2.81-2.81c.8-.78.8-2.07 0-2.86zM5.41 20L4 18.59l7.72-7.72 1.47 1.35L5.41 20z\"/>\n",
              "  </svg>\n",
              "      </button>\n",
              "      \n",
              "  <style>\n",
              "    .colab-df-container {\n",
              "      display:flex;\n",
              "      flex-wrap:wrap;\n",
              "      gap: 12px;\n",
              "    }\n",
              "\n",
              "    .colab-df-convert {\n",
              "      background-color: #E8F0FE;\n",
              "      border: none;\n",
              "      border-radius: 50%;\n",
              "      cursor: pointer;\n",
              "      display: none;\n",
              "      fill: #1967D2;\n",
              "      height: 32px;\n",
              "      padding: 0 0 0 0;\n",
              "      width: 32px;\n",
              "    }\n",
              "\n",
              "    .colab-df-convert:hover {\n",
              "      background-color: #E2EBFA;\n",
              "      box-shadow: 0px 1px 2px rgba(60, 64, 67, 0.3), 0px 1px 3px 1px rgba(60, 64, 67, 0.15);\n",
              "      fill: #174EA6;\n",
              "    }\n",
              "\n",
              "    [theme=dark] .colab-df-convert {\n",
              "      background-color: #3B4455;\n",
              "      fill: #D2E3FC;\n",
              "    }\n",
              "\n",
              "    [theme=dark] .colab-df-convert:hover {\n",
              "      background-color: #434B5C;\n",
              "      box-shadow: 0px 1px 3px 1px rgba(0, 0, 0, 0.15);\n",
              "      filter: drop-shadow(0px 1px 2px rgba(0, 0, 0, 0.3));\n",
              "      fill: #FFFFFF;\n",
              "    }\n",
              "  </style>\n",
              "\n",
              "      <script>\n",
              "        const buttonEl =\n",
              "          document.querySelector('#df-8662092b-c779-4765-8425-abc2785548ae button.colab-df-convert');\n",
              "        buttonEl.style.display =\n",
              "          google.colab.kernel.accessAllowed ? 'block' : 'none';\n",
              "\n",
              "        async function convertToInteractive(key) {\n",
              "          const element = document.querySelector('#df-8662092b-c779-4765-8425-abc2785548ae');\n",
              "          const dataTable =\n",
              "            await google.colab.kernel.invokeFunction('convertToInteractive',\n",
              "                                                     [key], {});\n",
              "          if (!dataTable) return;\n",
              "\n",
              "          const docLinkHtml = 'Like what you see? Visit the ' +\n",
              "            '<a target=\"_blank\" href=https://colab.research.google.com/notebooks/data_table.ipynb>data table notebook</a>'\n",
              "            + ' to learn more about interactive tables.';\n",
              "          element.innerHTML = '';\n",
              "          dataTable['output_type'] = 'display_data';\n",
              "          await google.colab.output.renderOutput(dataTable, element);\n",
              "          const docLink = document.createElement('div');\n",
              "          docLink.innerHTML = docLinkHtml;\n",
              "          element.appendChild(docLink);\n",
              "        }\n",
              "      </script>\n",
              "    </div>\n",
              "  </div>\n",
              "  "
            ]
          },
          "metadata": {},
          "execution_count": 34
        }
      ]
    },
    {
      "cell_type": "markdown",
      "source": [
        "**Quality Evaluation**\n",
        "\n",
        "*   Number of Raws (They should be 248 as the number of Songs in this Playlist)\n",
        "\n",
        "*   Missing Values (To see if the data was extracted correctly and to evaluate its Completeness)\n",
        "\n",
        "*   Some Descriptive Statistics\n",
        "\n",
        "*   Correlation Matrix\n",
        "\n",
        "\n",
        "\n"
      ],
      "metadata": {
        "id": "FRFeAbnBQUoY"
      }
    },
    {
      "cell_type": "code",
      "source": [
        "# Check the dimensions of the DataFrame\n",
        "print(f\"Number of rows: {df.shape[0]}\")\n",
        "print(f\"Number of columns: {df.shape[1]}\")\n",
        "print()\n",
        "\n",
        "# Check for missing values\n",
        "missing_values = df.isnull().sum()\n",
        "print(\"Missing Values:\")\n",
        "print(missing_values)\n",
        "print()\n",
        "\n",
        "# Check the data types of each column\n",
        "data_types = df.dtypes\n",
        "print(\"Data Types:\")\n",
        "print(data_types)\n",
        "print()\n",
        "\n",
        "# Descriptive statistics\n",
        "statistics = df.describe()\n",
        "print(\"Descriptive Statistics:\")\n",
        "print(statistics)\n",
        "print()\n",
        "\n",
        "# Check the correlation between numeric columns\n",
        "numeric_columns = ['Danceability', 'Energy', 'Valence', 'Tempo', 'Duration (ms)']\n",
        "correlation = df[numeric_columns].corr()\n",
        "print(\"Correlation Matrix:\")\n",
        "print(correlation)\n"
      ],
      "metadata": {
        "colab": {
          "base_uri": "https://localhost:8080/",
          "height": 0
        },
        "id": "uVgboV32QYZm",
        "outputId": "00000f61-6bd6-4f21-93b4-98ea73446f19"
      },
      "execution_count": 12,
      "outputs": [
        {
          "output_type": "stream",
          "name": "stdout",
          "text": [
            "Number of rows: 248\n",
            "Number of columns: 8\n",
            "\n",
            "Missing Values:\n",
            "Track            0\n",
            "Artist           0\n",
            "Album            0\n",
            "Danceability     0\n",
            "Energy           0\n",
            "Valence          0\n",
            "Tempo            0\n",
            "Duration (ms)    0\n",
            "dtype: int64\n",
            "\n",
            "Data Types:\n",
            "Track             object\n",
            "Artist            object\n",
            "Album             object\n",
            "Danceability     float64\n",
            "Energy           float64\n",
            "Valence          float64\n",
            "Tempo            float64\n",
            "Duration (ms)      int64\n",
            "dtype: object\n",
            "\n",
            "Descriptive Statistics:\n",
            "       Danceability      Energy     Valence       Tempo  Duration (ms)\n",
            "count    248.000000  248.000000  248.000000  248.000000     248.000000\n",
            "mean       0.531052    0.818790    0.519376  132.371528  171961.145161\n",
            "std        0.103289    0.128592    0.184479   36.022948   27918.279442\n",
            "min        0.134000    0.244000    0.035200   72.078000   96120.000000\n",
            "25%        0.467000    0.751500    0.389250   94.975000  153328.250000\n",
            "50%        0.530000    0.854000    0.521500  138.938000  171164.500000\n",
            "75%        0.601250    0.921000    0.639500  164.889000  185455.250000\n",
            "max        0.752000    0.990000    0.931000  200.153000  320526.000000\n",
            "\n",
            "Correlation Matrix:\n",
            "               Danceability    Energy   Valence     Tempo  Duration (ms)\n",
            "Danceability       1.000000 -0.328035  0.212010 -0.363512      -0.019556\n",
            "Energy            -0.328035  1.000000  0.209672  0.128215      -0.025024\n",
            "Valence            0.212010  0.209672  1.000000  0.019216      -0.138524\n",
            "Tempo             -0.363512  0.128215  0.019216  1.000000       0.044669\n",
            "Duration (ms)     -0.019556 -0.025024 -0.138524  0.044669       1.000000\n"
          ]
        }
      ]
    },
    {
      "cell_type": "markdown",
      "source": [
        "\n",
        "\n",
        "*   Completness of Data is Satisfied\n",
        "\n",
        "*   There are no significant Correlations between Variables (Features of a Song)\n",
        "\n"
      ],
      "metadata": {
        "id": "Wuy-LBnDZfEk"
      }
    },
    {
      "cell_type": "markdown",
      "source": [
        "**Top 10 Songs in Playlist**"
      ],
      "metadata": {
        "id": "seuvyEFWSHzf"
      }
    },
    {
      "cell_type": "markdown",
      "source": [
        "Let's define metrics to establish a Top 10 Songs in Playlist.\n",
        "\n",
        "Suppose we're looking for **Danceability** over other features, it will have a greater weight. So the metric is defined by the sum of all feature multiplied by its weight."
      ],
      "metadata": {
        "id": "RKR7Z6WEZwgB"
      }
    },
    {
      "cell_type": "code",
      "source": [
        "# Define the weights for each audio feature (adjust according to preference)\n",
        "weights = {\n",
        "    'Danceability': 0.6,\n",
        "    'Energy': 0.3,\n",
        "    'Valence': 0.3\n",
        "}\n",
        "\n",
        "# Calculate the weighted score for each track\n",
        "df['Score'] = df['Danceability'] * weights['Danceability'] + \\\n",
        "              df['Energy'] * weights['Energy'] + \\\n",
        "              df['Valence'] * weights['Valence']\n",
        "\n",
        "# Sort the DataFrame by the score in descending order\n",
        "df_sorted = df.sort_values('Score', ascending=False)\n",
        "\n",
        "# Get the top 50 tracks\n",
        "top_50_tracks = df_sorted.head(50)\n",
        "\n",
        "# Print the top 50 tracks\n",
        "top_50_tracks.head()\n"
      ],
      "metadata": {
        "colab": {
          "base_uri": "https://localhost:8080/",
          "height": 206
        },
        "id": "H6zUSr9PSO9p",
        "outputId": "ebdb5170-ac62-4556-e66e-635292c47853"
      },
      "execution_count": 37,
      "outputs": [
        {
          "output_type": "execute_result",
          "data": {
            "text/plain": [
              "                  Track     Artist                           Album  \\\n",
              "51                Polly      NASKA                           REBEL   \n",
              "207                Punk      Iride                            Punk   \n",
              "11   Sex Love Punk Rock      Revel  Viva La Revelution! -Volume 1-   \n",
              "239     Nella mia testa  xDiemondx                 Nella mia testa   \n",
              "5        Riposa in pace       Fløp                  Riposa in pace   \n",
              "\n",
              "     Danceability  Energy  Valence    Tempo  Duration (ms)   Score  \n",
              "51          0.737   0.782    0.931  132.054         165509  0.9561  \n",
              "207         0.682   0.806    0.925   77.492         139258  0.9285  \n",
              "11          0.649   0.959    0.757   91.552         169672  0.9042  \n",
              "239         0.672   0.850    0.784  128.013         217500  0.8934  \n",
              "5           0.611   0.946    0.808  140.045         157775  0.8928  "
            ],
            "text/html": [
              "\n",
              "  <div id=\"df-527b20fe-4b7c-40da-bfa9-3f3218225fac\">\n",
              "    <div class=\"colab-df-container\">\n",
              "      <div>\n",
              "<style scoped>\n",
              "    .dataframe tbody tr th:only-of-type {\n",
              "        vertical-align: middle;\n",
              "    }\n",
              "\n",
              "    .dataframe tbody tr th {\n",
              "        vertical-align: top;\n",
              "    }\n",
              "\n",
              "    .dataframe thead th {\n",
              "        text-align: right;\n",
              "    }\n",
              "</style>\n",
              "<table border=\"1\" class=\"dataframe\">\n",
              "  <thead>\n",
              "    <tr style=\"text-align: right;\">\n",
              "      <th></th>\n",
              "      <th>Track</th>\n",
              "      <th>Artist</th>\n",
              "      <th>Album</th>\n",
              "      <th>Danceability</th>\n",
              "      <th>Energy</th>\n",
              "      <th>Valence</th>\n",
              "      <th>Tempo</th>\n",
              "      <th>Duration (ms)</th>\n",
              "      <th>Score</th>\n",
              "    </tr>\n",
              "  </thead>\n",
              "  <tbody>\n",
              "    <tr>\n",
              "      <th>51</th>\n",
              "      <td>Polly</td>\n",
              "      <td>NASKA</td>\n",
              "      <td>REBEL</td>\n",
              "      <td>0.737</td>\n",
              "      <td>0.782</td>\n",
              "      <td>0.931</td>\n",
              "      <td>132.054</td>\n",
              "      <td>165509</td>\n",
              "      <td>0.9561</td>\n",
              "    </tr>\n",
              "    <tr>\n",
              "      <th>207</th>\n",
              "      <td>Punk</td>\n",
              "      <td>Iride</td>\n",
              "      <td>Punk</td>\n",
              "      <td>0.682</td>\n",
              "      <td>0.806</td>\n",
              "      <td>0.925</td>\n",
              "      <td>77.492</td>\n",
              "      <td>139258</td>\n",
              "      <td>0.9285</td>\n",
              "    </tr>\n",
              "    <tr>\n",
              "      <th>11</th>\n",
              "      <td>Sex Love Punk Rock</td>\n",
              "      <td>Revel</td>\n",
              "      <td>Viva La Revelution! -Volume 1-</td>\n",
              "      <td>0.649</td>\n",
              "      <td>0.959</td>\n",
              "      <td>0.757</td>\n",
              "      <td>91.552</td>\n",
              "      <td>169672</td>\n",
              "      <td>0.9042</td>\n",
              "    </tr>\n",
              "    <tr>\n",
              "      <th>239</th>\n",
              "      <td>Nella mia testa</td>\n",
              "      <td>xDiemondx</td>\n",
              "      <td>Nella mia testa</td>\n",
              "      <td>0.672</td>\n",
              "      <td>0.850</td>\n",
              "      <td>0.784</td>\n",
              "      <td>128.013</td>\n",
              "      <td>217500</td>\n",
              "      <td>0.8934</td>\n",
              "    </tr>\n",
              "    <tr>\n",
              "      <th>5</th>\n",
              "      <td>Riposa in pace</td>\n",
              "      <td>Fløp</td>\n",
              "      <td>Riposa in pace</td>\n",
              "      <td>0.611</td>\n",
              "      <td>0.946</td>\n",
              "      <td>0.808</td>\n",
              "      <td>140.045</td>\n",
              "      <td>157775</td>\n",
              "      <td>0.8928</td>\n",
              "    </tr>\n",
              "  </tbody>\n",
              "</table>\n",
              "</div>\n",
              "      <button class=\"colab-df-convert\" onclick=\"convertToInteractive('df-527b20fe-4b7c-40da-bfa9-3f3218225fac')\"\n",
              "              title=\"Convert this dataframe to an interactive table.\"\n",
              "              style=\"display:none;\">\n",
              "        \n",
              "  <svg xmlns=\"http://www.w3.org/2000/svg\" height=\"24px\"viewBox=\"0 0 24 24\"\n",
              "       width=\"24px\">\n",
              "    <path d=\"M0 0h24v24H0V0z\" fill=\"none\"/>\n",
              "    <path d=\"M18.56 5.44l.94 2.06.94-2.06 2.06-.94-2.06-.94-.94-2.06-.94 2.06-2.06.94zm-11 1L8.5 8.5l.94-2.06 2.06-.94-2.06-.94L8.5 2.5l-.94 2.06-2.06.94zm10 10l.94 2.06.94-2.06 2.06-.94-2.06-.94-.94-2.06-.94 2.06-2.06.94z\"/><path d=\"M17.41 7.96l-1.37-1.37c-.4-.4-.92-.59-1.43-.59-.52 0-1.04.2-1.43.59L10.3 9.45l-7.72 7.72c-.78.78-.78 2.05 0 2.83L4 21.41c.39.39.9.59 1.41.59.51 0 1.02-.2 1.41-.59l7.78-7.78 2.81-2.81c.8-.78.8-2.07 0-2.86zM5.41 20L4 18.59l7.72-7.72 1.47 1.35L5.41 20z\"/>\n",
              "  </svg>\n",
              "      </button>\n",
              "      \n",
              "  <style>\n",
              "    .colab-df-container {\n",
              "      display:flex;\n",
              "      flex-wrap:wrap;\n",
              "      gap: 12px;\n",
              "    }\n",
              "\n",
              "    .colab-df-convert {\n",
              "      background-color: #E8F0FE;\n",
              "      border: none;\n",
              "      border-radius: 50%;\n",
              "      cursor: pointer;\n",
              "      display: none;\n",
              "      fill: #1967D2;\n",
              "      height: 32px;\n",
              "      padding: 0 0 0 0;\n",
              "      width: 32px;\n",
              "    }\n",
              "\n",
              "    .colab-df-convert:hover {\n",
              "      background-color: #E2EBFA;\n",
              "      box-shadow: 0px 1px 2px rgba(60, 64, 67, 0.3), 0px 1px 3px 1px rgba(60, 64, 67, 0.15);\n",
              "      fill: #174EA6;\n",
              "    }\n",
              "\n",
              "    [theme=dark] .colab-df-convert {\n",
              "      background-color: #3B4455;\n",
              "      fill: #D2E3FC;\n",
              "    }\n",
              "\n",
              "    [theme=dark] .colab-df-convert:hover {\n",
              "      background-color: #434B5C;\n",
              "      box-shadow: 0px 1px 3px 1px rgba(0, 0, 0, 0.15);\n",
              "      filter: drop-shadow(0px 1px 2px rgba(0, 0, 0, 0.3));\n",
              "      fill: #FFFFFF;\n",
              "    }\n",
              "  </style>\n",
              "\n",
              "      <script>\n",
              "        const buttonEl =\n",
              "          document.querySelector('#df-527b20fe-4b7c-40da-bfa9-3f3218225fac button.colab-df-convert');\n",
              "        buttonEl.style.display =\n",
              "          google.colab.kernel.accessAllowed ? 'block' : 'none';\n",
              "\n",
              "        async function convertToInteractive(key) {\n",
              "          const element = document.querySelector('#df-527b20fe-4b7c-40da-bfa9-3f3218225fac');\n",
              "          const dataTable =\n",
              "            await google.colab.kernel.invokeFunction('convertToInteractive',\n",
              "                                                     [key], {});\n",
              "          if (!dataTable) return;\n",
              "\n",
              "          const docLinkHtml = 'Like what you see? Visit the ' +\n",
              "            '<a target=\"_blank\" href=https://colab.research.google.com/notebooks/data_table.ipynb>data table notebook</a>'\n",
              "            + ' to learn more about interactive tables.';\n",
              "          element.innerHTML = '';\n",
              "          dataTable['output_type'] = 'display_data';\n",
              "          await google.colab.output.renderOutput(dataTable, element);\n",
              "          const docLink = document.createElement('div');\n",
              "          docLink.innerHTML = docLinkHtml;\n",
              "          element.appendChild(docLink);\n",
              "        }\n",
              "      </script>\n",
              "    </div>\n",
              "  </div>\n",
              "  "
            ]
          },
          "metadata": {},
          "execution_count": 37
        }
      ]
    },
    {
      "cell_type": "markdown",
      "source": [
        "Once the metric for each song has been calculated, it's possible to sort the songs and plot them."
      ],
      "metadata": {
        "id": "G_tRvMq_atsx"
      }
    },
    {
      "cell_type": "code",
      "source": [
        "import plotly.graph_objects as go\n",
        "# Group the DataFrame by artist and track and calculate the mean score for each group\n",
        "df_grouped = df.groupby(['Artist', 'Track']).mean().reset_index()\n",
        "\n",
        "# Sort the DataFrame by the mean score in descending order\n",
        "df_sorted = df_grouped.sort_values('Score', ascending=False)\n",
        "\n",
        "# Get the top 10 artists\n",
        "top_10_artists = df_sorted.groupby('Artist').head(1).nlargest(10, 'Score')\n",
        "\n",
        "# Create the interactive bar plot\n",
        "fig = go.Figure(data=[go.Bar(x=top_10_artists['Artist'], y=top_10_artists['Score'],\n",
        "                            text=top_10_artists['Track'],\n",
        "                            hovertemplate='<b>Artist</b>: %{x}<br><b>Score</b>: %{y}<br><b>Track</b>: %{text}<extra></extra>')])\n",
        "\n",
        "fig.update_layout(title='Top 10 Artists and Their Top Tracks',\n",
        "                  xaxis_title='Artist',\n",
        "                  yaxis_title='Score')\n",
        "\n",
        "fig.update_traces(marker_color='rgb(158,202,225)', marker_line_color='rgb(8,48,107)',\n",
        "                  marker_line_width=1.5, opacity=0.6)\n",
        "\n",
        "fig.show()\n",
        "\n"
      ],
      "metadata": {
        "colab": {
          "base_uri": "https://localhost:8080/",
          "height": 598
        },
        "id": "R0cUREf9TrbI",
        "outputId": "15d8d22f-3e97-4a02-860c-f0901cea15db"
      },
      "execution_count": 21,
      "outputs": [
        {
          "output_type": "stream",
          "name": "stderr",
          "text": [
            "<ipython-input-21-c9454ffc26f9>:3: FutureWarning: The default value of numeric_only in DataFrameGroupBy.mean is deprecated. In a future version, numeric_only will default to False. Either specify numeric_only or select only columns which should be valid for the function.\n",
            "  df_grouped = df.groupby(['Artist', 'Track']).mean().reset_index()\n"
          ]
        },
        {
          "output_type": "display_data",
          "data": {
            "text/html": [
              "<html>\n",
              "<head><meta charset=\"utf-8\" /></head>\n",
              "<body>\n",
              "    <div>            <script src=\"https://cdnjs.cloudflare.com/ajax/libs/mathjax/2.7.5/MathJax.js?config=TeX-AMS-MML_SVG\"></script><script type=\"text/javascript\">if (window.MathJax && window.MathJax.Hub && window.MathJax.Hub.Config) {window.MathJax.Hub.Config({SVG: {font: \"STIX-Web\"}});}</script>                <script type=\"text/javascript\">window.PlotlyConfig = {MathJaxConfig: 'local'};</script>\n",
              "        <script src=\"https://cdn.plot.ly/plotly-2.18.2.min.js\"></script>                <div id=\"6530b5d5-0926-4afc-af42-0a8b35654dc2\" class=\"plotly-graph-div\" style=\"height:525px; width:100%;\"></div>            <script type=\"text/javascript\">                                    window.PLOTLYENV=window.PLOTLYENV || {};                                    if (document.getElementById(\"6530b5d5-0926-4afc-af42-0a8b35654dc2\")) {                    Plotly.newPlot(                        \"6530b5d5-0926-4afc-af42-0a8b35654dc2\",                        [{\"hovertemplate\":\"<b>Artist</b>: %{x}<br><b>Score</b>: %{y}<br><b>Track</b>: %{text}<extra></extra>\",\"text\":[\"Polly\",\"Punk\",\"Sex Love Punk Rock\",\"Nella mia testa\",\"Riposa in pace\",\"Motel\",\"CRETEEN 2.0\",\"SADLIFE\",\"Alyssa\",\"Nuvole Grigie\"],\"x\":[\"NASKA\",\"Iride\",\"Revel\",\"xDiemondx\",\"Fl\\u00f8p\",\"TASH\",\"Dette\",\"The\\u00f8\",\"Devil Sola\",\"Danien\"],\"y\":[0.9561,0.9285000000000001,0.9042,0.8934,0.8928,0.8816999999999999,0.879,0.8784,0.8768999999999999,0.8744999999999999],\"type\":\"bar\",\"marker\":{\"line\":{\"color\":\"rgb(8,48,107)\",\"width\":1.5},\"color\":\"rgb(158,202,225)\"},\"opacity\":0.6}],                        {\"template\":{\"data\":{\"histogram2dcontour\":[{\"type\":\"histogram2dcontour\",\"colorbar\":{\"outlinewidth\":0,\"ticks\":\"\"},\"colorscale\":[[0.0,\"#0d0887\"],[0.1111111111111111,\"#46039f\"],[0.2222222222222222,\"#7201a8\"],[0.3333333333333333,\"#9c179e\"],[0.4444444444444444,\"#bd3786\"],[0.5555555555555556,\"#d8576b\"],[0.6666666666666666,\"#ed7953\"],[0.7777777777777778,\"#fb9f3a\"],[0.8888888888888888,\"#fdca26\"],[1.0,\"#f0f921\"]]}],\"choropleth\":[{\"type\":\"choropleth\",\"colorbar\":{\"outlinewidth\":0,\"ticks\":\"\"}}],\"histogram2d\":[{\"type\":\"histogram2d\",\"colorbar\":{\"outlinewidth\":0,\"ticks\":\"\"},\"colorscale\":[[0.0,\"#0d0887\"],[0.1111111111111111,\"#46039f\"],[0.2222222222222222,\"#7201a8\"],[0.3333333333333333,\"#9c179e\"],[0.4444444444444444,\"#bd3786\"],[0.5555555555555556,\"#d8576b\"],[0.6666666666666666,\"#ed7953\"],[0.7777777777777778,\"#fb9f3a\"],[0.8888888888888888,\"#fdca26\"],[1.0,\"#f0f921\"]]}],\"heatmap\":[{\"type\":\"heatmap\",\"colorbar\":{\"outlinewidth\":0,\"ticks\":\"\"},\"colorscale\":[[0.0,\"#0d0887\"],[0.1111111111111111,\"#46039f\"],[0.2222222222222222,\"#7201a8\"],[0.3333333333333333,\"#9c179e\"],[0.4444444444444444,\"#bd3786\"],[0.5555555555555556,\"#d8576b\"],[0.6666666666666666,\"#ed7953\"],[0.7777777777777778,\"#fb9f3a\"],[0.8888888888888888,\"#fdca26\"],[1.0,\"#f0f921\"]]}],\"heatmapgl\":[{\"type\":\"heatmapgl\",\"colorbar\":{\"outlinewidth\":0,\"ticks\":\"\"},\"colorscale\":[[0.0,\"#0d0887\"],[0.1111111111111111,\"#46039f\"],[0.2222222222222222,\"#7201a8\"],[0.3333333333333333,\"#9c179e\"],[0.4444444444444444,\"#bd3786\"],[0.5555555555555556,\"#d8576b\"],[0.6666666666666666,\"#ed7953\"],[0.7777777777777778,\"#fb9f3a\"],[0.8888888888888888,\"#fdca26\"],[1.0,\"#f0f921\"]]}],\"contourcarpet\":[{\"type\":\"contourcarpet\",\"colorbar\":{\"outlinewidth\":0,\"ticks\":\"\"}}],\"contour\":[{\"type\":\"contour\",\"colorbar\":{\"outlinewidth\":0,\"ticks\":\"\"},\"colorscale\":[[0.0,\"#0d0887\"],[0.1111111111111111,\"#46039f\"],[0.2222222222222222,\"#7201a8\"],[0.3333333333333333,\"#9c179e\"],[0.4444444444444444,\"#bd3786\"],[0.5555555555555556,\"#d8576b\"],[0.6666666666666666,\"#ed7953\"],[0.7777777777777778,\"#fb9f3a\"],[0.8888888888888888,\"#fdca26\"],[1.0,\"#f0f921\"]]}],\"surface\":[{\"type\":\"surface\",\"colorbar\":{\"outlinewidth\":0,\"ticks\":\"\"},\"colorscale\":[[0.0,\"#0d0887\"],[0.1111111111111111,\"#46039f\"],[0.2222222222222222,\"#7201a8\"],[0.3333333333333333,\"#9c179e\"],[0.4444444444444444,\"#bd3786\"],[0.5555555555555556,\"#d8576b\"],[0.6666666666666666,\"#ed7953\"],[0.7777777777777778,\"#fb9f3a\"],[0.8888888888888888,\"#fdca26\"],[1.0,\"#f0f921\"]]}],\"mesh3d\":[{\"type\":\"mesh3d\",\"colorbar\":{\"outlinewidth\":0,\"ticks\":\"\"}}],\"scatter\":[{\"fillpattern\":{\"fillmode\":\"overlay\",\"size\":10,\"solidity\":0.2},\"type\":\"scatter\"}],\"parcoords\":[{\"type\":\"parcoords\",\"line\":{\"colorbar\":{\"outlinewidth\":0,\"ticks\":\"\"}}}],\"scatterpolargl\":[{\"type\":\"scatterpolargl\",\"marker\":{\"colorbar\":{\"outlinewidth\":0,\"ticks\":\"\"}}}],\"bar\":[{\"error_x\":{\"color\":\"#2a3f5f\"},\"error_y\":{\"color\":\"#2a3f5f\"},\"marker\":{\"line\":{\"color\":\"#E5ECF6\",\"width\":0.5},\"pattern\":{\"fillmode\":\"overlay\",\"size\":10,\"solidity\":0.2}},\"type\":\"bar\"}],\"scattergeo\":[{\"type\":\"scattergeo\",\"marker\":{\"colorbar\":{\"outlinewidth\":0,\"ticks\":\"\"}}}],\"scatterpolar\":[{\"type\":\"scatterpolar\",\"marker\":{\"colorbar\":{\"outlinewidth\":0,\"ticks\":\"\"}}}],\"histogram\":[{\"marker\":{\"pattern\":{\"fillmode\":\"overlay\",\"size\":10,\"solidity\":0.2}},\"type\":\"histogram\"}],\"scattergl\":[{\"type\":\"scattergl\",\"marker\":{\"colorbar\":{\"outlinewidth\":0,\"ticks\":\"\"}}}],\"scatter3d\":[{\"type\":\"scatter3d\",\"line\":{\"colorbar\":{\"outlinewidth\":0,\"ticks\":\"\"}},\"marker\":{\"colorbar\":{\"outlinewidth\":0,\"ticks\":\"\"}}}],\"scattermapbox\":[{\"type\":\"scattermapbox\",\"marker\":{\"colorbar\":{\"outlinewidth\":0,\"ticks\":\"\"}}}],\"scatterternary\":[{\"type\":\"scatterternary\",\"marker\":{\"colorbar\":{\"outlinewidth\":0,\"ticks\":\"\"}}}],\"scattercarpet\":[{\"type\":\"scattercarpet\",\"marker\":{\"colorbar\":{\"outlinewidth\":0,\"ticks\":\"\"}}}],\"carpet\":[{\"aaxis\":{\"endlinecolor\":\"#2a3f5f\",\"gridcolor\":\"white\",\"linecolor\":\"white\",\"minorgridcolor\":\"white\",\"startlinecolor\":\"#2a3f5f\"},\"baxis\":{\"endlinecolor\":\"#2a3f5f\",\"gridcolor\":\"white\",\"linecolor\":\"white\",\"minorgridcolor\":\"white\",\"startlinecolor\":\"#2a3f5f\"},\"type\":\"carpet\"}],\"table\":[{\"cells\":{\"fill\":{\"color\":\"#EBF0F8\"},\"line\":{\"color\":\"white\"}},\"header\":{\"fill\":{\"color\":\"#C8D4E3\"},\"line\":{\"color\":\"white\"}},\"type\":\"table\"}],\"barpolar\":[{\"marker\":{\"line\":{\"color\":\"#E5ECF6\",\"width\":0.5},\"pattern\":{\"fillmode\":\"overlay\",\"size\":10,\"solidity\":0.2}},\"type\":\"barpolar\"}],\"pie\":[{\"automargin\":true,\"type\":\"pie\"}]},\"layout\":{\"autotypenumbers\":\"strict\",\"colorway\":[\"#636efa\",\"#EF553B\",\"#00cc96\",\"#ab63fa\",\"#FFA15A\",\"#19d3f3\",\"#FF6692\",\"#B6E880\",\"#FF97FF\",\"#FECB52\"],\"font\":{\"color\":\"#2a3f5f\"},\"hovermode\":\"closest\",\"hoverlabel\":{\"align\":\"left\"},\"paper_bgcolor\":\"white\",\"plot_bgcolor\":\"#E5ECF6\",\"polar\":{\"bgcolor\":\"#E5ECF6\",\"angularaxis\":{\"gridcolor\":\"white\",\"linecolor\":\"white\",\"ticks\":\"\"},\"radialaxis\":{\"gridcolor\":\"white\",\"linecolor\":\"white\",\"ticks\":\"\"}},\"ternary\":{\"bgcolor\":\"#E5ECF6\",\"aaxis\":{\"gridcolor\":\"white\",\"linecolor\":\"white\",\"ticks\":\"\"},\"baxis\":{\"gridcolor\":\"white\",\"linecolor\":\"white\",\"ticks\":\"\"},\"caxis\":{\"gridcolor\":\"white\",\"linecolor\":\"white\",\"ticks\":\"\"}},\"coloraxis\":{\"colorbar\":{\"outlinewidth\":0,\"ticks\":\"\"}},\"colorscale\":{\"sequential\":[[0.0,\"#0d0887\"],[0.1111111111111111,\"#46039f\"],[0.2222222222222222,\"#7201a8\"],[0.3333333333333333,\"#9c179e\"],[0.4444444444444444,\"#bd3786\"],[0.5555555555555556,\"#d8576b\"],[0.6666666666666666,\"#ed7953\"],[0.7777777777777778,\"#fb9f3a\"],[0.8888888888888888,\"#fdca26\"],[1.0,\"#f0f921\"]],\"sequentialminus\":[[0.0,\"#0d0887\"],[0.1111111111111111,\"#46039f\"],[0.2222222222222222,\"#7201a8\"],[0.3333333333333333,\"#9c179e\"],[0.4444444444444444,\"#bd3786\"],[0.5555555555555556,\"#d8576b\"],[0.6666666666666666,\"#ed7953\"],[0.7777777777777778,\"#fb9f3a\"],[0.8888888888888888,\"#fdca26\"],[1.0,\"#f0f921\"]],\"diverging\":[[0,\"#8e0152\"],[0.1,\"#c51b7d\"],[0.2,\"#de77ae\"],[0.3,\"#f1b6da\"],[0.4,\"#fde0ef\"],[0.5,\"#f7f7f7\"],[0.6,\"#e6f5d0\"],[0.7,\"#b8e186\"],[0.8,\"#7fbc41\"],[0.9,\"#4d9221\"],[1,\"#276419\"]]},\"xaxis\":{\"gridcolor\":\"white\",\"linecolor\":\"white\",\"ticks\":\"\",\"title\":{\"standoff\":15},\"zerolinecolor\":\"white\",\"automargin\":true,\"zerolinewidth\":2},\"yaxis\":{\"gridcolor\":\"white\",\"linecolor\":\"white\",\"ticks\":\"\",\"title\":{\"standoff\":15},\"zerolinecolor\":\"white\",\"automargin\":true,\"zerolinewidth\":2},\"scene\":{\"xaxis\":{\"backgroundcolor\":\"#E5ECF6\",\"gridcolor\":\"white\",\"linecolor\":\"white\",\"showbackground\":true,\"ticks\":\"\",\"zerolinecolor\":\"white\",\"gridwidth\":2},\"yaxis\":{\"backgroundcolor\":\"#E5ECF6\",\"gridcolor\":\"white\",\"linecolor\":\"white\",\"showbackground\":true,\"ticks\":\"\",\"zerolinecolor\":\"white\",\"gridwidth\":2},\"zaxis\":{\"backgroundcolor\":\"#E5ECF6\",\"gridcolor\":\"white\",\"linecolor\":\"white\",\"showbackground\":true,\"ticks\":\"\",\"zerolinecolor\":\"white\",\"gridwidth\":2}},\"shapedefaults\":{\"line\":{\"color\":\"#2a3f5f\"}},\"annotationdefaults\":{\"arrowcolor\":\"#2a3f5f\",\"arrowhead\":0,\"arrowwidth\":1},\"geo\":{\"bgcolor\":\"white\",\"landcolor\":\"#E5ECF6\",\"subunitcolor\":\"white\",\"showland\":true,\"showlakes\":true,\"lakecolor\":\"white\"},\"title\":{\"x\":0.05},\"mapbox\":{\"style\":\"light\"}}},\"title\":{\"text\":\"Top 10 Artists and Their Top Tracks\"},\"xaxis\":{\"title\":{\"text\":\"Artist\"}},\"yaxis\":{\"title\":{\"text\":\"Score\"}}},                        {\"responsive\": true}                    ).then(function(){\n",
              "                            \n",
              "var gd = document.getElementById('6530b5d5-0926-4afc-af42-0a8b35654dc2');\n",
              "var x = new MutationObserver(function (mutations, observer) {{\n",
              "        var display = window.getComputedStyle(gd).display;\n",
              "        if (!display || display === 'none') {{\n",
              "            console.log([gd, 'removed!']);\n",
              "            Plotly.purge(gd);\n",
              "            observer.disconnect();\n",
              "        }}\n",
              "}});\n",
              "\n",
              "// Listen for the removal of the full notebook cells\n",
              "var notebookContainer = gd.closest('#notebook-container');\n",
              "if (notebookContainer) {{\n",
              "    x.observe(notebookContainer, {childList: true});\n",
              "}}\n",
              "\n",
              "// Listen for the clearing of the current output cell\n",
              "var outputEl = gd.closest('.output');\n",
              "if (outputEl) {{\n",
              "    x.observe(outputEl, {childList: true});\n",
              "}}\n",
              "\n",
              "                        })                };                            </script>        </div>\n",
              "</body>\n",
              "</html>"
            ]
          },
          "metadata": {}
        }
      ]
    },
    {
      "cell_type": "markdown",
      "source": [
        "Plot is interactive: By selecting each Song in the plot you can see the score recieved."
      ],
      "metadata": {
        "id": "XONBBkVKbG0O"
      }
    },
    {
      "cell_type": "markdown",
      "source": [
        "**NASKA vs. Dette**\n",
        "\n",
        "Since Dette is featured with only one song in this playlist, let's compare her \"CRETEEN 2.0\" with all of NASKA's songs featured in this playlist."
      ],
      "metadata": {
        "id": "GGXdPYMXbcnc"
      }
    },
    {
      "cell_type": "code",
      "source": [
        "import plotly.express as px\n",
        "\n",
        "# Filter the DataFrame for NASKA and Dette\n",
        "naska_df = df[df['Artist'] == 'NASKA']\n",
        "dette_df = df[df['Artist'] == 'Dette']\n",
        "\n",
        "# Combine the DataFrames for NASKA and Dette\n",
        "combined_df = pd.concat([naska_df, dette_df])\n",
        "\n",
        "# Calculate the mean of each feature for NASKA and Dette\n",
        "mean_features_df = combined_df.groupby('Artist').mean().reset_index()\n",
        "\n",
        "# Reshape the DataFrame for plotting\n",
        "melted_df = pd.melt(mean_features_df, id_vars='Artist', value_vars=['Danceability', 'Energy', 'Valence'],\n",
        "                    var_name='Feature', value_name='Value')\n",
        "\n",
        "# Merge the melted DataFrame with the original DataFrame to get the track titles\n",
        "merged_df = pd.merge(melted_df, df[['Artist', 'Track']], on='Artist', how='left')\n",
        "\n",
        "# Create the interactive bar plot\n",
        "fig = px.bar(merged_df, x='Feature', y='Value', color='Artist', barmode='group',\n",
        "             text='Track', labels={'Feature': 'Feature', 'Value': 'Value'},\n",
        "             title='Comparison of Features: NASKA vs Dette')\n",
        "\n",
        "fig.update_traces(textposition='outside')\n",
        "\n",
        "fig.show()\n"
      ],
      "metadata": {
        "colab": {
          "base_uri": "https://localhost:8080/",
          "height": 633
        },
        "id": "msSjuekFW8zr",
        "outputId": "0b16558a-4ded-42a8-e96a-f9e13908231e"
      },
      "execution_count": 31,
      "outputs": [
        {
          "output_type": "stream",
          "name": "stderr",
          "text": [
            "<ipython-input-31-595778f2a901>:11: FutureWarning:\n",
            "\n",
            "The default value of numeric_only in DataFrameGroupBy.mean is deprecated. In a future version, numeric_only will default to False. Either specify numeric_only or select only columns which should be valid for the function.\n",
            "\n"
          ]
        },
        {
          "output_type": "display_data",
          "data": {
            "text/html": [
              "<html>\n",
              "<head><meta charset=\"utf-8\" /></head>\n",
              "<body>\n",
              "    <div>            <script src=\"https://cdnjs.cloudflare.com/ajax/libs/mathjax/2.7.5/MathJax.js?config=TeX-AMS-MML_SVG\"></script><script type=\"text/javascript\">if (window.MathJax && window.MathJax.Hub && window.MathJax.Hub.Config) {window.MathJax.Hub.Config({SVG: {font: \"STIX-Web\"}});}</script>                <script type=\"text/javascript\">window.PlotlyConfig = {MathJaxConfig: 'local'};</script>\n",
              "        <script src=\"https://cdn.plot.ly/plotly-2.18.2.min.js\"></script>                <div id=\"294cceca-0fa4-4bd5-ba0f-81e78d594e7f\" class=\"plotly-graph-div\" style=\"height:525px; width:100%;\"></div>            <script type=\"text/javascript\">                                    window.PLOTLYENV=window.PLOTLYENV || {};                                    if (document.getElementById(\"294cceca-0fa4-4bd5-ba0f-81e78d594e7f\")) {                    Plotly.newPlot(                        \"294cceca-0fa4-4bd5-ba0f-81e78d594e7f\",                        [{\"alignmentgroup\":\"True\",\"hovertemplate\":\"Artist=Dette<br>Feature=%{x}<br>Value=%{y}<br>Track=%{text}<extra></extra>\",\"legendgroup\":\"Dette\",\"marker\":{\"color\":\"#636efa\",\"pattern\":{\"shape\":\"\"}},\"name\":\"Dette\",\"offsetgroup\":\"Dette\",\"orientation\":\"v\",\"showlegend\":true,\"text\":[\"CRETEEN 2.0\",\"CRETEEN 2.0\",\"CRETEEN 2.0\"],\"textposition\":\"outside\",\"x\":[\"Danceability\",\"Energy\",\"Valence\"],\"xaxis\":\"x\",\"y\":[0.749,0.806,0.626],\"yaxis\":\"y\",\"type\":\"bar\"},{\"alignmentgroup\":\"True\",\"hovertemplate\":\"Artist=NASKA<br>Feature=%{x}<br>Value=%{y}<br>Track=%{text}<extra></extra>\",\"legendgroup\":\"NASKA\",\"marker\":{\"color\":\"#EF553B\",\"pattern\":{\"shape\":\"\"}},\"name\":\"NASKA\",\"offsetgroup\":\"NASKA\",\"orientation\":\"v\",\"showlegend\":true,\"text\":[\"a Nessuno\",\"a Testa in gi\\u00f9\",\"Cattiva\",\"Spezzami il Cuore\",\"O Mi Uccidi\",\"Settembre\",\"Mamma Non Mi Parla\",\"Punkabbestia\",\"Schiena Dritta\",\"7 su 7\",\"Horror\",\"Polly\",\"Rebel\",\"California\",\"A letto sveglio\",\"Tu che ne sai (feat. Zoda)\",\"a Nessuno\",\"a Testa in gi\\u00f9\",\"Cattiva\",\"Spezzami il Cuore\",\"O Mi Uccidi\",\"Settembre\",\"Mamma Non Mi Parla\",\"Punkabbestia\",\"Schiena Dritta\",\"7 su 7\",\"Horror\",\"Polly\",\"Rebel\",\"California\",\"A letto sveglio\",\"Tu che ne sai (feat. Zoda)\",\"a Nessuno\",\"a Testa in gi\\u00f9\",\"Cattiva\",\"Spezzami il Cuore\",\"O Mi Uccidi\",\"Settembre\",\"Mamma Non Mi Parla\",\"Punkabbestia\",\"Schiena Dritta\",\"7 su 7\",\"Horror\",\"Polly\",\"Rebel\",\"California\",\"A letto sveglio\",\"Tu che ne sai (feat. Zoda)\"],\"textposition\":\"outside\",\"x\":[\"Danceability\",\"Danceability\",\"Danceability\",\"Danceability\",\"Danceability\",\"Danceability\",\"Danceability\",\"Danceability\",\"Danceability\",\"Danceability\",\"Danceability\",\"Danceability\",\"Danceability\",\"Danceability\",\"Danceability\",\"Danceability\",\"Energy\",\"Energy\",\"Energy\",\"Energy\",\"Energy\",\"Energy\",\"Energy\",\"Energy\",\"Energy\",\"Energy\",\"Energy\",\"Energy\",\"Energy\",\"Energy\",\"Energy\",\"Energy\",\"Valence\",\"Valence\",\"Valence\",\"Valence\",\"Valence\",\"Valence\",\"Valence\",\"Valence\",\"Valence\",\"Valence\",\"Valence\",\"Valence\",\"Valence\",\"Valence\",\"Valence\",\"Valence\"],\"xaxis\":\"x\",\"y\":[0.5428125,0.5428125,0.5428125,0.5428125,0.5428125,0.5428125,0.5428125,0.5428125,0.5428125,0.5428125,0.5428125,0.5428125,0.5428125,0.5428125,0.5428125,0.5428125,0.7348125,0.7348125,0.7348125,0.7348125,0.7348125,0.7348125,0.7348125,0.7348125,0.7348125,0.7348125,0.7348125,0.7348125,0.7348125,0.7348125,0.7348125,0.7348125,0.48425,0.48425,0.48425,0.48425,0.48425,0.48425,0.48425,0.48425,0.48425,0.48425,0.48425,0.48425,0.48425,0.48425,0.48425,0.48425],\"yaxis\":\"y\",\"type\":\"bar\"}],                        {\"template\":{\"data\":{\"histogram2dcontour\":[{\"type\":\"histogram2dcontour\",\"colorbar\":{\"outlinewidth\":0,\"ticks\":\"\"},\"colorscale\":[[0.0,\"#0d0887\"],[0.1111111111111111,\"#46039f\"],[0.2222222222222222,\"#7201a8\"],[0.3333333333333333,\"#9c179e\"],[0.4444444444444444,\"#bd3786\"],[0.5555555555555556,\"#d8576b\"],[0.6666666666666666,\"#ed7953\"],[0.7777777777777778,\"#fb9f3a\"],[0.8888888888888888,\"#fdca26\"],[1.0,\"#f0f921\"]]}],\"choropleth\":[{\"type\":\"choropleth\",\"colorbar\":{\"outlinewidth\":0,\"ticks\":\"\"}}],\"histogram2d\":[{\"type\":\"histogram2d\",\"colorbar\":{\"outlinewidth\":0,\"ticks\":\"\"},\"colorscale\":[[0.0,\"#0d0887\"],[0.1111111111111111,\"#46039f\"],[0.2222222222222222,\"#7201a8\"],[0.3333333333333333,\"#9c179e\"],[0.4444444444444444,\"#bd3786\"],[0.5555555555555556,\"#d8576b\"],[0.6666666666666666,\"#ed7953\"],[0.7777777777777778,\"#fb9f3a\"],[0.8888888888888888,\"#fdca26\"],[1.0,\"#f0f921\"]]}],\"heatmap\":[{\"type\":\"heatmap\",\"colorbar\":{\"outlinewidth\":0,\"ticks\":\"\"},\"colorscale\":[[0.0,\"#0d0887\"],[0.1111111111111111,\"#46039f\"],[0.2222222222222222,\"#7201a8\"],[0.3333333333333333,\"#9c179e\"],[0.4444444444444444,\"#bd3786\"],[0.5555555555555556,\"#d8576b\"],[0.6666666666666666,\"#ed7953\"],[0.7777777777777778,\"#fb9f3a\"],[0.8888888888888888,\"#fdca26\"],[1.0,\"#f0f921\"]]}],\"heatmapgl\":[{\"type\":\"heatmapgl\",\"colorbar\":{\"outlinewidth\":0,\"ticks\":\"\"},\"colorscale\":[[0.0,\"#0d0887\"],[0.1111111111111111,\"#46039f\"],[0.2222222222222222,\"#7201a8\"],[0.3333333333333333,\"#9c179e\"],[0.4444444444444444,\"#bd3786\"],[0.5555555555555556,\"#d8576b\"],[0.6666666666666666,\"#ed7953\"],[0.7777777777777778,\"#fb9f3a\"],[0.8888888888888888,\"#fdca26\"],[1.0,\"#f0f921\"]]}],\"contourcarpet\":[{\"type\":\"contourcarpet\",\"colorbar\":{\"outlinewidth\":0,\"ticks\":\"\"}}],\"contour\":[{\"type\":\"contour\",\"colorbar\":{\"outlinewidth\":0,\"ticks\":\"\"},\"colorscale\":[[0.0,\"#0d0887\"],[0.1111111111111111,\"#46039f\"],[0.2222222222222222,\"#7201a8\"],[0.3333333333333333,\"#9c179e\"],[0.4444444444444444,\"#bd3786\"],[0.5555555555555556,\"#d8576b\"],[0.6666666666666666,\"#ed7953\"],[0.7777777777777778,\"#fb9f3a\"],[0.8888888888888888,\"#fdca26\"],[1.0,\"#f0f921\"]]}],\"surface\":[{\"type\":\"surface\",\"colorbar\":{\"outlinewidth\":0,\"ticks\":\"\"},\"colorscale\":[[0.0,\"#0d0887\"],[0.1111111111111111,\"#46039f\"],[0.2222222222222222,\"#7201a8\"],[0.3333333333333333,\"#9c179e\"],[0.4444444444444444,\"#bd3786\"],[0.5555555555555556,\"#d8576b\"],[0.6666666666666666,\"#ed7953\"],[0.7777777777777778,\"#fb9f3a\"],[0.8888888888888888,\"#fdca26\"],[1.0,\"#f0f921\"]]}],\"mesh3d\":[{\"type\":\"mesh3d\",\"colorbar\":{\"outlinewidth\":0,\"ticks\":\"\"}}],\"scatter\":[{\"fillpattern\":{\"fillmode\":\"overlay\",\"size\":10,\"solidity\":0.2},\"type\":\"scatter\"}],\"parcoords\":[{\"type\":\"parcoords\",\"line\":{\"colorbar\":{\"outlinewidth\":0,\"ticks\":\"\"}}}],\"scatterpolargl\":[{\"type\":\"scatterpolargl\",\"marker\":{\"colorbar\":{\"outlinewidth\":0,\"ticks\":\"\"}}}],\"bar\":[{\"error_x\":{\"color\":\"#2a3f5f\"},\"error_y\":{\"color\":\"#2a3f5f\"},\"marker\":{\"line\":{\"color\":\"#E5ECF6\",\"width\":0.5},\"pattern\":{\"fillmode\":\"overlay\",\"size\":10,\"solidity\":0.2}},\"type\":\"bar\"}],\"scattergeo\":[{\"type\":\"scattergeo\",\"marker\":{\"colorbar\":{\"outlinewidth\":0,\"ticks\":\"\"}}}],\"scatterpolar\":[{\"type\":\"scatterpolar\",\"marker\":{\"colorbar\":{\"outlinewidth\":0,\"ticks\":\"\"}}}],\"histogram\":[{\"marker\":{\"pattern\":{\"fillmode\":\"overlay\",\"size\":10,\"solidity\":0.2}},\"type\":\"histogram\"}],\"scattergl\":[{\"type\":\"scattergl\",\"marker\":{\"colorbar\":{\"outlinewidth\":0,\"ticks\":\"\"}}}],\"scatter3d\":[{\"type\":\"scatter3d\",\"line\":{\"colorbar\":{\"outlinewidth\":0,\"ticks\":\"\"}},\"marker\":{\"colorbar\":{\"outlinewidth\":0,\"ticks\":\"\"}}}],\"scattermapbox\":[{\"type\":\"scattermapbox\",\"marker\":{\"colorbar\":{\"outlinewidth\":0,\"ticks\":\"\"}}}],\"scatterternary\":[{\"type\":\"scatterternary\",\"marker\":{\"colorbar\":{\"outlinewidth\":0,\"ticks\":\"\"}}}],\"scattercarpet\":[{\"type\":\"scattercarpet\",\"marker\":{\"colorbar\":{\"outlinewidth\":0,\"ticks\":\"\"}}}],\"carpet\":[{\"aaxis\":{\"endlinecolor\":\"#2a3f5f\",\"gridcolor\":\"white\",\"linecolor\":\"white\",\"minorgridcolor\":\"white\",\"startlinecolor\":\"#2a3f5f\"},\"baxis\":{\"endlinecolor\":\"#2a3f5f\",\"gridcolor\":\"white\",\"linecolor\":\"white\",\"minorgridcolor\":\"white\",\"startlinecolor\":\"#2a3f5f\"},\"type\":\"carpet\"}],\"table\":[{\"cells\":{\"fill\":{\"color\":\"#EBF0F8\"},\"line\":{\"color\":\"white\"}},\"header\":{\"fill\":{\"color\":\"#C8D4E3\"},\"line\":{\"color\":\"white\"}},\"type\":\"table\"}],\"barpolar\":[{\"marker\":{\"line\":{\"color\":\"#E5ECF6\",\"width\":0.5},\"pattern\":{\"fillmode\":\"overlay\",\"size\":10,\"solidity\":0.2}},\"type\":\"barpolar\"}],\"pie\":[{\"automargin\":true,\"type\":\"pie\"}]},\"layout\":{\"autotypenumbers\":\"strict\",\"colorway\":[\"#636efa\",\"#EF553B\",\"#00cc96\",\"#ab63fa\",\"#FFA15A\",\"#19d3f3\",\"#FF6692\",\"#B6E880\",\"#FF97FF\",\"#FECB52\"],\"font\":{\"color\":\"#2a3f5f\"},\"hovermode\":\"closest\",\"hoverlabel\":{\"align\":\"left\"},\"paper_bgcolor\":\"white\",\"plot_bgcolor\":\"#E5ECF6\",\"polar\":{\"bgcolor\":\"#E5ECF6\",\"angularaxis\":{\"gridcolor\":\"white\",\"linecolor\":\"white\",\"ticks\":\"\"},\"radialaxis\":{\"gridcolor\":\"white\",\"linecolor\":\"white\",\"ticks\":\"\"}},\"ternary\":{\"bgcolor\":\"#E5ECF6\",\"aaxis\":{\"gridcolor\":\"white\",\"linecolor\":\"white\",\"ticks\":\"\"},\"baxis\":{\"gridcolor\":\"white\",\"linecolor\":\"white\",\"ticks\":\"\"},\"caxis\":{\"gridcolor\":\"white\",\"linecolor\":\"white\",\"ticks\":\"\"}},\"coloraxis\":{\"colorbar\":{\"outlinewidth\":0,\"ticks\":\"\"}},\"colorscale\":{\"sequential\":[[0.0,\"#0d0887\"],[0.1111111111111111,\"#46039f\"],[0.2222222222222222,\"#7201a8\"],[0.3333333333333333,\"#9c179e\"],[0.4444444444444444,\"#bd3786\"],[0.5555555555555556,\"#d8576b\"],[0.6666666666666666,\"#ed7953\"],[0.7777777777777778,\"#fb9f3a\"],[0.8888888888888888,\"#fdca26\"],[1.0,\"#f0f921\"]],\"sequentialminus\":[[0.0,\"#0d0887\"],[0.1111111111111111,\"#46039f\"],[0.2222222222222222,\"#7201a8\"],[0.3333333333333333,\"#9c179e\"],[0.4444444444444444,\"#bd3786\"],[0.5555555555555556,\"#d8576b\"],[0.6666666666666666,\"#ed7953\"],[0.7777777777777778,\"#fb9f3a\"],[0.8888888888888888,\"#fdca26\"],[1.0,\"#f0f921\"]],\"diverging\":[[0,\"#8e0152\"],[0.1,\"#c51b7d\"],[0.2,\"#de77ae\"],[0.3,\"#f1b6da\"],[0.4,\"#fde0ef\"],[0.5,\"#f7f7f7\"],[0.6,\"#e6f5d0\"],[0.7,\"#b8e186\"],[0.8,\"#7fbc41\"],[0.9,\"#4d9221\"],[1,\"#276419\"]]},\"xaxis\":{\"gridcolor\":\"white\",\"linecolor\":\"white\",\"ticks\":\"\",\"title\":{\"standoff\":15},\"zerolinecolor\":\"white\",\"automargin\":true,\"zerolinewidth\":2},\"yaxis\":{\"gridcolor\":\"white\",\"linecolor\":\"white\",\"ticks\":\"\",\"title\":{\"standoff\":15},\"zerolinecolor\":\"white\",\"automargin\":true,\"zerolinewidth\":2},\"scene\":{\"xaxis\":{\"backgroundcolor\":\"#E5ECF6\",\"gridcolor\":\"white\",\"linecolor\":\"white\",\"showbackground\":true,\"ticks\":\"\",\"zerolinecolor\":\"white\",\"gridwidth\":2},\"yaxis\":{\"backgroundcolor\":\"#E5ECF6\",\"gridcolor\":\"white\",\"linecolor\":\"white\",\"showbackground\":true,\"ticks\":\"\",\"zerolinecolor\":\"white\",\"gridwidth\":2},\"zaxis\":{\"backgroundcolor\":\"#E5ECF6\",\"gridcolor\":\"white\",\"linecolor\":\"white\",\"showbackground\":true,\"ticks\":\"\",\"zerolinecolor\":\"white\",\"gridwidth\":2}},\"shapedefaults\":{\"line\":{\"color\":\"#2a3f5f\"}},\"annotationdefaults\":{\"arrowcolor\":\"#2a3f5f\",\"arrowhead\":0,\"arrowwidth\":1},\"geo\":{\"bgcolor\":\"white\",\"landcolor\":\"#E5ECF6\",\"subunitcolor\":\"white\",\"showland\":true,\"showlakes\":true,\"lakecolor\":\"white\"},\"title\":{\"x\":0.05},\"mapbox\":{\"style\":\"light\"}}},\"xaxis\":{\"anchor\":\"y\",\"domain\":[0.0,1.0],\"title\":{\"text\":\"Feature\"}},\"yaxis\":{\"anchor\":\"x\",\"domain\":[0.0,1.0],\"title\":{\"text\":\"Value\"}},\"legend\":{\"title\":{\"text\":\"Artist\"},\"tracegroupgap\":0},\"title\":{\"text\":\"Comparison of Features: NASKA vs Dette\"},\"barmode\":\"group\"},                        {\"responsive\": true}                    ).then(function(){\n",
              "                            \n",
              "var gd = document.getElementById('294cceca-0fa4-4bd5-ba0f-81e78d594e7f');\n",
              "var x = new MutationObserver(function (mutations, observer) {{\n",
              "        var display = window.getComputedStyle(gd).display;\n",
              "        if (!display || display === 'none') {{\n",
              "            console.log([gd, 'removed!']);\n",
              "            Plotly.purge(gd);\n",
              "            observer.disconnect();\n",
              "        }}\n",
              "}});\n",
              "\n",
              "// Listen for the removal of the full notebook cells\n",
              "var notebookContainer = gd.closest('#notebook-container');\n",
              "if (notebookContainer) {{\n",
              "    x.observe(notebookContainer, {childList: true});\n",
              "}}\n",
              "\n",
              "// Listen for the clearing of the current output cell\n",
              "var outputEl = gd.closest('.output');\n",
              "if (outputEl) {{\n",
              "    x.observe(outputEl, {childList: true});\n",
              "}}\n",
              "\n",
              "                        })                };                            </script>        </div>\n",
              "</body>\n",
              "</html>"
            ]
          },
          "metadata": {}
        }
      ]
    },
    {
      "cell_type": "markdown",
      "source": [
        "Plot is Interactive: By selecting each stack of NASKA bars you can see the score for each song.\n",
        "\n",
        "Clearly NASKA has far more songs than Dette and as a result the comparison doesn't hold up."
      ],
      "metadata": {
        "id": "u5RPGOUKb6BJ"
      }
    },
    {
      "cell_type": "markdown",
      "source": [
        "**NASKA vs. Dette In Deep**\n",
        "\n",
        "But what if we averaged his scores?"
      ],
      "metadata": {
        "id": "3zB3oRYVcTmn"
      }
    },
    {
      "cell_type": "code",
      "source": [
        "# Calculate the mean of each feature for NASKA and Dette\n",
        "mean_features_df = combined_df.groupby('Artist').mean().reset_index()\n",
        "\n",
        "# Reshape the DataFrame for plotting\n",
        "melted_df = pd.melt(mean_features_df, id_vars='Artist', value_vars=['Danceability', 'Energy', 'Valence'],\n",
        "                    var_name='Feature', value_name='Value')\n",
        "\n",
        "# Create the interactive scatter plot\n",
        "fig = px.scatter(melted_df, x='Feature', y='Value', color='Artist', hover_data=['Artist'],\n",
        "                 labels={'Feature': 'Feature', 'Value': 'Value'},\n",
        "                 title='Comparison of Features: NASKA vs Dette')\n",
        "\n",
        "fig.update_traces(marker=dict(size=10, opacity=0.8))\n",
        "\n",
        "fig.show()"
      ],
      "metadata": {
        "colab": {
          "base_uri": "https://localhost:8080/",
          "height": 633
        },
        "id": "CxDoOJmfXdR-",
        "outputId": "c1e7a9a4-9145-4b8f-82aa-9ab994cdd7d9"
      },
      "execution_count": 33,
      "outputs": [
        {
          "output_type": "stream",
          "name": "stderr",
          "text": [
            "<ipython-input-33-c51bf11c9e03>:2: FutureWarning:\n",
            "\n",
            "The default value of numeric_only in DataFrameGroupBy.mean is deprecated. In a future version, numeric_only will default to False. Either specify numeric_only or select only columns which should be valid for the function.\n",
            "\n"
          ]
        },
        {
          "output_type": "display_data",
          "data": {
            "text/html": [
              "<html>\n",
              "<head><meta charset=\"utf-8\" /></head>\n",
              "<body>\n",
              "    <div>            <script src=\"https://cdnjs.cloudflare.com/ajax/libs/mathjax/2.7.5/MathJax.js?config=TeX-AMS-MML_SVG\"></script><script type=\"text/javascript\">if (window.MathJax && window.MathJax.Hub && window.MathJax.Hub.Config) {window.MathJax.Hub.Config({SVG: {font: \"STIX-Web\"}});}</script>                <script type=\"text/javascript\">window.PlotlyConfig = {MathJaxConfig: 'local'};</script>\n",
              "        <script src=\"https://cdn.plot.ly/plotly-2.18.2.min.js\"></script>                <div id=\"799fb0f1-c11b-4e13-a7f9-f345f45bfb4e\" class=\"plotly-graph-div\" style=\"height:525px; width:100%;\"></div>            <script type=\"text/javascript\">                                    window.PLOTLYENV=window.PLOTLYENV || {};                                    if (document.getElementById(\"799fb0f1-c11b-4e13-a7f9-f345f45bfb4e\")) {                    Plotly.newPlot(                        \"799fb0f1-c11b-4e13-a7f9-f345f45bfb4e\",                        [{\"customdata\":[[\"Dette\"],[\"Dette\"],[\"Dette\"]],\"hovertemplate\":\"Artist=%{customdata[0]}<br>Feature=%{x}<br>Value=%{y}<extra></extra>\",\"legendgroup\":\"Dette\",\"marker\":{\"color\":\"#636efa\",\"symbol\":\"circle\",\"opacity\":0.8,\"size\":10},\"mode\":\"markers\",\"name\":\"Dette\",\"orientation\":\"v\",\"showlegend\":true,\"x\":[\"Danceability\",\"Energy\",\"Valence\"],\"xaxis\":\"x\",\"y\":[0.749,0.806,0.626],\"yaxis\":\"y\",\"type\":\"scatter\"},{\"customdata\":[[\"NASKA\"],[\"NASKA\"],[\"NASKA\"]],\"hovertemplate\":\"Artist=%{customdata[0]}<br>Feature=%{x}<br>Value=%{y}<extra></extra>\",\"legendgroup\":\"NASKA\",\"marker\":{\"color\":\"#EF553B\",\"symbol\":\"circle\",\"opacity\":0.8,\"size\":10},\"mode\":\"markers\",\"name\":\"NASKA\",\"orientation\":\"v\",\"showlegend\":true,\"x\":[\"Danceability\",\"Energy\",\"Valence\"],\"xaxis\":\"x\",\"y\":[0.5428125,0.7348125,0.48425],\"yaxis\":\"y\",\"type\":\"scatter\"}],                        {\"template\":{\"data\":{\"histogram2dcontour\":[{\"type\":\"histogram2dcontour\",\"colorbar\":{\"outlinewidth\":0,\"ticks\":\"\"},\"colorscale\":[[0.0,\"#0d0887\"],[0.1111111111111111,\"#46039f\"],[0.2222222222222222,\"#7201a8\"],[0.3333333333333333,\"#9c179e\"],[0.4444444444444444,\"#bd3786\"],[0.5555555555555556,\"#d8576b\"],[0.6666666666666666,\"#ed7953\"],[0.7777777777777778,\"#fb9f3a\"],[0.8888888888888888,\"#fdca26\"],[1.0,\"#f0f921\"]]}],\"choropleth\":[{\"type\":\"choropleth\",\"colorbar\":{\"outlinewidth\":0,\"ticks\":\"\"}}],\"histogram2d\":[{\"type\":\"histogram2d\",\"colorbar\":{\"outlinewidth\":0,\"ticks\":\"\"},\"colorscale\":[[0.0,\"#0d0887\"],[0.1111111111111111,\"#46039f\"],[0.2222222222222222,\"#7201a8\"],[0.3333333333333333,\"#9c179e\"],[0.4444444444444444,\"#bd3786\"],[0.5555555555555556,\"#d8576b\"],[0.6666666666666666,\"#ed7953\"],[0.7777777777777778,\"#fb9f3a\"],[0.8888888888888888,\"#fdca26\"],[1.0,\"#f0f921\"]]}],\"heatmap\":[{\"type\":\"heatmap\",\"colorbar\":{\"outlinewidth\":0,\"ticks\":\"\"},\"colorscale\":[[0.0,\"#0d0887\"],[0.1111111111111111,\"#46039f\"],[0.2222222222222222,\"#7201a8\"],[0.3333333333333333,\"#9c179e\"],[0.4444444444444444,\"#bd3786\"],[0.5555555555555556,\"#d8576b\"],[0.6666666666666666,\"#ed7953\"],[0.7777777777777778,\"#fb9f3a\"],[0.8888888888888888,\"#fdca26\"],[1.0,\"#f0f921\"]]}],\"heatmapgl\":[{\"type\":\"heatmapgl\",\"colorbar\":{\"outlinewidth\":0,\"ticks\":\"\"},\"colorscale\":[[0.0,\"#0d0887\"],[0.1111111111111111,\"#46039f\"],[0.2222222222222222,\"#7201a8\"],[0.3333333333333333,\"#9c179e\"],[0.4444444444444444,\"#bd3786\"],[0.5555555555555556,\"#d8576b\"],[0.6666666666666666,\"#ed7953\"],[0.7777777777777778,\"#fb9f3a\"],[0.8888888888888888,\"#fdca26\"],[1.0,\"#f0f921\"]]}],\"contourcarpet\":[{\"type\":\"contourcarpet\",\"colorbar\":{\"outlinewidth\":0,\"ticks\":\"\"}}],\"contour\":[{\"type\":\"contour\",\"colorbar\":{\"outlinewidth\":0,\"ticks\":\"\"},\"colorscale\":[[0.0,\"#0d0887\"],[0.1111111111111111,\"#46039f\"],[0.2222222222222222,\"#7201a8\"],[0.3333333333333333,\"#9c179e\"],[0.4444444444444444,\"#bd3786\"],[0.5555555555555556,\"#d8576b\"],[0.6666666666666666,\"#ed7953\"],[0.7777777777777778,\"#fb9f3a\"],[0.8888888888888888,\"#fdca26\"],[1.0,\"#f0f921\"]]}],\"surface\":[{\"type\":\"surface\",\"colorbar\":{\"outlinewidth\":0,\"ticks\":\"\"},\"colorscale\":[[0.0,\"#0d0887\"],[0.1111111111111111,\"#46039f\"],[0.2222222222222222,\"#7201a8\"],[0.3333333333333333,\"#9c179e\"],[0.4444444444444444,\"#bd3786\"],[0.5555555555555556,\"#d8576b\"],[0.6666666666666666,\"#ed7953\"],[0.7777777777777778,\"#fb9f3a\"],[0.8888888888888888,\"#fdca26\"],[1.0,\"#f0f921\"]]}],\"mesh3d\":[{\"type\":\"mesh3d\",\"colorbar\":{\"outlinewidth\":0,\"ticks\":\"\"}}],\"scatter\":[{\"fillpattern\":{\"fillmode\":\"overlay\",\"size\":10,\"solidity\":0.2},\"type\":\"scatter\"}],\"parcoords\":[{\"type\":\"parcoords\",\"line\":{\"colorbar\":{\"outlinewidth\":0,\"ticks\":\"\"}}}],\"scatterpolargl\":[{\"type\":\"scatterpolargl\",\"marker\":{\"colorbar\":{\"outlinewidth\":0,\"ticks\":\"\"}}}],\"bar\":[{\"error_x\":{\"color\":\"#2a3f5f\"},\"error_y\":{\"color\":\"#2a3f5f\"},\"marker\":{\"line\":{\"color\":\"#E5ECF6\",\"width\":0.5},\"pattern\":{\"fillmode\":\"overlay\",\"size\":10,\"solidity\":0.2}},\"type\":\"bar\"}],\"scattergeo\":[{\"type\":\"scattergeo\",\"marker\":{\"colorbar\":{\"outlinewidth\":0,\"ticks\":\"\"}}}],\"scatterpolar\":[{\"type\":\"scatterpolar\",\"marker\":{\"colorbar\":{\"outlinewidth\":0,\"ticks\":\"\"}}}],\"histogram\":[{\"marker\":{\"pattern\":{\"fillmode\":\"overlay\",\"size\":10,\"solidity\":0.2}},\"type\":\"histogram\"}],\"scattergl\":[{\"type\":\"scattergl\",\"marker\":{\"colorbar\":{\"outlinewidth\":0,\"ticks\":\"\"}}}],\"scatter3d\":[{\"type\":\"scatter3d\",\"line\":{\"colorbar\":{\"outlinewidth\":0,\"ticks\":\"\"}},\"marker\":{\"colorbar\":{\"outlinewidth\":0,\"ticks\":\"\"}}}],\"scattermapbox\":[{\"type\":\"scattermapbox\",\"marker\":{\"colorbar\":{\"outlinewidth\":0,\"ticks\":\"\"}}}],\"scatterternary\":[{\"type\":\"scatterternary\",\"marker\":{\"colorbar\":{\"outlinewidth\":0,\"ticks\":\"\"}}}],\"scattercarpet\":[{\"type\":\"scattercarpet\",\"marker\":{\"colorbar\":{\"outlinewidth\":0,\"ticks\":\"\"}}}],\"carpet\":[{\"aaxis\":{\"endlinecolor\":\"#2a3f5f\",\"gridcolor\":\"white\",\"linecolor\":\"white\",\"minorgridcolor\":\"white\",\"startlinecolor\":\"#2a3f5f\"},\"baxis\":{\"endlinecolor\":\"#2a3f5f\",\"gridcolor\":\"white\",\"linecolor\":\"white\",\"minorgridcolor\":\"white\",\"startlinecolor\":\"#2a3f5f\"},\"type\":\"carpet\"}],\"table\":[{\"cells\":{\"fill\":{\"color\":\"#EBF0F8\"},\"line\":{\"color\":\"white\"}},\"header\":{\"fill\":{\"color\":\"#C8D4E3\"},\"line\":{\"color\":\"white\"}},\"type\":\"table\"}],\"barpolar\":[{\"marker\":{\"line\":{\"color\":\"#E5ECF6\",\"width\":0.5},\"pattern\":{\"fillmode\":\"overlay\",\"size\":10,\"solidity\":0.2}},\"type\":\"barpolar\"}],\"pie\":[{\"automargin\":true,\"type\":\"pie\"}]},\"layout\":{\"autotypenumbers\":\"strict\",\"colorway\":[\"#636efa\",\"#EF553B\",\"#00cc96\",\"#ab63fa\",\"#FFA15A\",\"#19d3f3\",\"#FF6692\",\"#B6E880\",\"#FF97FF\",\"#FECB52\"],\"font\":{\"color\":\"#2a3f5f\"},\"hovermode\":\"closest\",\"hoverlabel\":{\"align\":\"left\"},\"paper_bgcolor\":\"white\",\"plot_bgcolor\":\"#E5ECF6\",\"polar\":{\"bgcolor\":\"#E5ECF6\",\"angularaxis\":{\"gridcolor\":\"white\",\"linecolor\":\"white\",\"ticks\":\"\"},\"radialaxis\":{\"gridcolor\":\"white\",\"linecolor\":\"white\",\"ticks\":\"\"}},\"ternary\":{\"bgcolor\":\"#E5ECF6\",\"aaxis\":{\"gridcolor\":\"white\",\"linecolor\":\"white\",\"ticks\":\"\"},\"baxis\":{\"gridcolor\":\"white\",\"linecolor\":\"white\",\"ticks\":\"\"},\"caxis\":{\"gridcolor\":\"white\",\"linecolor\":\"white\",\"ticks\":\"\"}},\"coloraxis\":{\"colorbar\":{\"outlinewidth\":0,\"ticks\":\"\"}},\"colorscale\":{\"sequential\":[[0.0,\"#0d0887\"],[0.1111111111111111,\"#46039f\"],[0.2222222222222222,\"#7201a8\"],[0.3333333333333333,\"#9c179e\"],[0.4444444444444444,\"#bd3786\"],[0.5555555555555556,\"#d8576b\"],[0.6666666666666666,\"#ed7953\"],[0.7777777777777778,\"#fb9f3a\"],[0.8888888888888888,\"#fdca26\"],[1.0,\"#f0f921\"]],\"sequentialminus\":[[0.0,\"#0d0887\"],[0.1111111111111111,\"#46039f\"],[0.2222222222222222,\"#7201a8\"],[0.3333333333333333,\"#9c179e\"],[0.4444444444444444,\"#bd3786\"],[0.5555555555555556,\"#d8576b\"],[0.6666666666666666,\"#ed7953\"],[0.7777777777777778,\"#fb9f3a\"],[0.8888888888888888,\"#fdca26\"],[1.0,\"#f0f921\"]],\"diverging\":[[0,\"#8e0152\"],[0.1,\"#c51b7d\"],[0.2,\"#de77ae\"],[0.3,\"#f1b6da\"],[0.4,\"#fde0ef\"],[0.5,\"#f7f7f7\"],[0.6,\"#e6f5d0\"],[0.7,\"#b8e186\"],[0.8,\"#7fbc41\"],[0.9,\"#4d9221\"],[1,\"#276419\"]]},\"xaxis\":{\"gridcolor\":\"white\",\"linecolor\":\"white\",\"ticks\":\"\",\"title\":{\"standoff\":15},\"zerolinecolor\":\"white\",\"automargin\":true,\"zerolinewidth\":2},\"yaxis\":{\"gridcolor\":\"white\",\"linecolor\":\"white\",\"ticks\":\"\",\"title\":{\"standoff\":15},\"zerolinecolor\":\"white\",\"automargin\":true,\"zerolinewidth\":2},\"scene\":{\"xaxis\":{\"backgroundcolor\":\"#E5ECF6\",\"gridcolor\":\"white\",\"linecolor\":\"white\",\"showbackground\":true,\"ticks\":\"\",\"zerolinecolor\":\"white\",\"gridwidth\":2},\"yaxis\":{\"backgroundcolor\":\"#E5ECF6\",\"gridcolor\":\"white\",\"linecolor\":\"white\",\"showbackground\":true,\"ticks\":\"\",\"zerolinecolor\":\"white\",\"gridwidth\":2},\"zaxis\":{\"backgroundcolor\":\"#E5ECF6\",\"gridcolor\":\"white\",\"linecolor\":\"white\",\"showbackground\":true,\"ticks\":\"\",\"zerolinecolor\":\"white\",\"gridwidth\":2}},\"shapedefaults\":{\"line\":{\"color\":\"#2a3f5f\"}},\"annotationdefaults\":{\"arrowcolor\":\"#2a3f5f\",\"arrowhead\":0,\"arrowwidth\":1},\"geo\":{\"bgcolor\":\"white\",\"landcolor\":\"#E5ECF6\",\"subunitcolor\":\"white\",\"showland\":true,\"showlakes\":true,\"lakecolor\":\"white\"},\"title\":{\"x\":0.05},\"mapbox\":{\"style\":\"light\"}}},\"xaxis\":{\"anchor\":\"y\",\"domain\":[0.0,1.0],\"title\":{\"text\":\"Feature\"}},\"yaxis\":{\"anchor\":\"x\",\"domain\":[0.0,1.0],\"title\":{\"text\":\"Value\"}},\"legend\":{\"title\":{\"text\":\"Artist\"},\"tracegroupgap\":0},\"title\":{\"text\":\"Comparison of Features: NASKA vs Dette\"}},                        {\"responsive\": true}                    ).then(function(){\n",
              "                            \n",
              "var gd = document.getElementById('799fb0f1-c11b-4e13-a7f9-f345f45bfb4e');\n",
              "var x = new MutationObserver(function (mutations, observer) {{\n",
              "        var display = window.getComputedStyle(gd).display;\n",
              "        if (!display || display === 'none') {{\n",
              "            console.log([gd, 'removed!']);\n",
              "            Plotly.purge(gd);\n",
              "            observer.disconnect();\n",
              "        }}\n",
              "}});\n",
              "\n",
              "// Listen for the removal of the full notebook cells\n",
              "var notebookContainer = gd.closest('#notebook-container');\n",
              "if (notebookContainer) {{\n",
              "    x.observe(notebookContainer, {childList: true});\n",
              "}}\n",
              "\n",
              "// Listen for the clearing of the current output cell\n",
              "var outputEl = gd.closest('.output');\n",
              "if (outputEl) {{\n",
              "    x.observe(outputEl, {childList: true});\n",
              "}}\n",
              "\n",
              "                        })                };                            </script>        </div>\n",
              "</body>\n",
              "</html>"
            ]
          },
          "metadata": {}
        }
      ]
    },
    {
      "cell_type": "markdown",
      "source": [
        "By averaging all the scores of the different NASKA songs and comparing the average value with Dette's scores for the different features, we notice that something has changed.\n",
        "\n",
        "Dette has a big lead on all features."
      ],
      "metadata": {
        "id": "Wq1J1Tabc3JF"
      }
    },
    {
      "cell_type": "markdown",
      "source": [
        "**Conclusions**\n",
        "\n",
        "Definitely not a super fair method of comparison for the following reasons:\n",
        "\n",
        "\n",
        "\n",
        "*   Dette could be present in the playlist with a single piece, her best song for example and consequently have objective statistics higher than the average ones of NASKA, the fact remains that NASKA is still a great artist, superior to Dette. Clearly if we were to average every Dette score against NASKA's scores, the up-and-coming artist wouldn't stand a chance.\n",
        "\n",
        "*   The metric used takes more account of one feature rather than the other two, making it weigh more. It is certainly not a good method to decree which of the two is the better artist. This statistic belongs to the public!\n",
        "\n",
        "\n",
        "\n"
      ],
      "metadata": {
        "id": "HLzIAevcc4kX"
      }
    },
    {
      "cell_type": "markdown",
      "source": [
        "In conclusion, we can say that NASKA is constant in its publications receiving a very high average score for each song, while for Dette we can say that if it were to continue as it started with \"CRETEEN 2.0\" it would put the established artist in serious difficulty!"
      ],
      "metadata": {
        "id": "cjPcVIpQeD-S"
      }
    }
  ]
}